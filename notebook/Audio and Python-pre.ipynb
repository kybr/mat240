{
 "metadata": {
  "name": ""
 },
 "nbformat": 3,
 "nbformat_minor": 0,
 "worksheets": [
  {
   "cells": [
    {
     "cell_type": "heading",
     "level": 1,
     "metadata": {
      "slideshow": {
       "slide_type": "slide"
      }
     },
     "source": [
      "General audio work"
     ]
    },
    {
     "cell_type": "code",
     "collapsed": false,
     "input": [
      "from scipy.io import wavfile"
     ],
     "language": "python",
     "metadata": {},
     "outputs": []
    },
    {
     "cell_type": "markdown",
     "metadata": {},
     "source": [
      "If scipy is not available, you can use the *wave* module which is part of the standard library:\n",
      "\n",
      "http://docs.python.org/2/library/wave.html\n",
      "\n",
      "However it is trickier to use as you get the bytes directly and must manually turn them into numbers."
     ]
    },
    {
     "cell_type": "code",
     "collapsed": false,
     "input": [
      "wavfile.write('outsig.wav', 44100, array(sigout, dtype=int16))\n",
      "\n",
      "sr, sample = wavfile.read('passport.wav')"
     ],
     "language": "python",
     "metadata": {},
     "outputs": []
    },
    {
     "cell_type": "markdown",
     "metadata": {},
     "source": [
      "Now we'll generate a bunch of files with different frequencies:"
     ]
    },
    {
     "cell_type": "code",
     "collapsed": false,
     "input": [],
     "language": "python",
     "metadata": {},
     "outputs": []
    },
    {
     "cell_type": "code",
     "collapsed": false,
     "input": [],
     "language": "python",
     "metadata": {},
     "outputs": []
    },
    {
     "cell_type": "code",
     "collapsed": false,
     "input": [],
     "language": "python",
     "metadata": {},
     "outputs": []
    },
    {
     "cell_type": "code",
     "collapsed": false,
     "input": [],
     "language": "python",
     "metadata": {},
     "outputs": []
    },
    {
     "cell_type": "heading",
     "level": 2,
     "metadata": {},
     "source": [
      "Interleaving/De-interleaving"
     ]
    },
    {
     "cell_type": "code",
     "collapsed": false,
     "input": [],
     "language": "python",
     "metadata": {},
     "outputs": []
    },
    {
     "cell_type": "code",
     "collapsed": false,
     "input": [],
     "language": "python",
     "metadata": {},
     "outputs": []
    },
    {
     "cell_type": "heading",
     "level": 2,
     "metadata": {},
     "source": [
      "Scripting"
     ]
    },
    {
     "cell_type": "markdown",
     "metadata": {},
     "source": [
      "Perform actions on a large number of files.\n",
      "\n",
      "For example add a fadeout to all files in a directory:"
     ]
    },
    {
     "cell_type": "code",
     "collapsed": false,
     "input": [
      "import glob"
     ],
     "language": "python",
     "metadata": {},
     "outputs": []
    },
    {
     "cell_type": "code",
     "collapsed": false,
     "input": [],
     "language": "python",
     "metadata": {},
     "outputs": []
    },
    {
     "cell_type": "code",
     "collapsed": false,
     "input": [],
     "language": "python",
     "metadata": {},
     "outputs": []
    },
    {
     "cell_type": "code",
     "collapsed": false,
     "input": [],
     "language": "python",
     "metadata": {},
     "outputs": []
    },
    {
     "cell_type": "markdown",
     "metadata": {},
     "source": [
      "Or on meta-data, using libraries like:\n",
      "* https://code.google.com/p/mutagen/\n",
      "* http://audiotools.sourceforge.net/"
     ]
    },
    {
     "cell_type": "code",
     "collapsed": false,
     "input": [
      "from mutagen.easyid3 import EasyID3\n",
      "audio = EasyID3(\"example.mp3\")\n",
      "audio[\"title\"] = u\"An example\"\n",
      "audio.save()"
     ],
     "language": "python",
     "metadata": {},
     "outputs": []
    },
    {
     "cell_type": "code",
     "collapsed": false,
     "input": [
      "from mutagen.id3 import ID3, TIT2\n",
      "audio = ID3(\"example.mp3\")\n",
      "audio.add(TIT2(encoding=3, text=u\"An example\"))\n",
      "audio.save()"
     ],
     "language": "python",
     "metadata": {},
     "outputs": []
    },
    {
     "cell_type": "heading",
     "level": 1,
     "metadata": {
      "slideshow": {
       "slide_type": "slide"
      }
     },
     "source": [
      "Score/MIDI/Code generation"
     ]
    },
    {
     "cell_type": "markdown",
     "metadata": {},
     "source": [
      "You can generate code or MIDI using python to drive other music production systems.\n",
      "\n",
      "Generating text scores for languages like Csound is simple in Python thanks to it's string processing capabilities."
     ]
    },
    {
     "cell_type": "code",
     "collapsed": false,
     "input": [
      "# Csound score\n",
      "\n",
      "score = ''\n",
      "time = 0\n",
      "dur = 0.5\n",
      "\n",
      "import random\n",
      "\n",
      "for i in range(10):\n",
      "    freq = 440 + random.random() * 440 \n",
      "    score += \"i 1 %f %f %f\\n\"%(time, dur, freq)"
     ],
     "language": "python",
     "metadata": {},
     "outputs": []
    },
    {
     "cell_type": "code",
     "collapsed": false,
     "input": [
      "print score"
     ],
     "language": "python",
     "metadata": {},
     "outputs": []
    },
    {
     "cell_type": "markdown",
     "metadata": {},
     "source": [
      "A simple library for working with MIDI files:\n",
      "* https://code.google.com/p/midiutil/"
     ]
    },
    {
     "cell_type": "code",
     "collapsed": false,
     "input": [
      "from midiutil.MidiFile import MIDIFile\n",
      "# Create the MIDIFile Object with 1 track\n",
      "MyMIDI = MIDIFile(1)\n",
      "\n",
      "# Tracks are numbered from zero. Times are measured in beats.\n",
      "\n",
      "track = 0   \n",
      "time = 0\n",
      "\n",
      "# Add track name and tempo.\n",
      "MyMIDI.addTrackName(track,time,\"Sample Track\")\n",
      "MyMIDI.addTempo(track,time,120)\n",
      "\n",
      "# Add a note. addNote expects the following information:\n",
      "track = 0\n",
      "channel = 0\n",
      "pitch = 60\n",
      "time = 0\n",
      "duration = 1\n",
      "volume = 100\n",
      "\n",
      "# Now add the note.\n",
      "MyMIDI.addNote(track,channel,pitch,time,duration,volume)\n",
      "\n",
      "# And write it to disk.\n",
      "binfile = open(\"output.mid\", 'wb')\n",
      "MyMIDI.writeFile(binfile)\n",
      "binfile.close()"
     ],
     "language": "python",
     "metadata": {},
     "outputs": []
    },
    {
     "cell_type": "code",
     "collapsed": false,
     "input": [
      "!pmidi output.mid -p 129:0 # timidity is device 129:0 on my system"
     ],
     "language": "python",
     "metadata": {},
     "outputs": []
    },
    {
     "cell_type": "markdown",
     "metadata": {},
     "source": [
      "Now generate a sequence of notes:"
     ]
    },
    {
     "cell_type": "code",
     "collapsed": false,
     "input": [],
     "language": "python",
     "metadata": {},
     "outputs": []
    },
    {
     "cell_type": "code",
     "collapsed": false,
     "input": [],
     "language": "python",
     "metadata": {},
     "outputs": []
    },
    {
     "cell_type": "code",
     "collapsed": false,
     "input": [],
     "language": "python",
     "metadata": {},
     "outputs": []
    },
    {
     "cell_type": "heading",
     "level": 1,
     "metadata": {
      "slideshow": {
       "slide_type": "slide"
      }
     },
     "source": [
      "Digital Signal Processing and Acoustics"
     ]
    },
    {
     "cell_type": "markdown",
     "metadata": {},
     "source": [
      "Python can be useful as a prototyping tool for DSP and acoustics algorithms."
     ]
    },
    {
     "cell_type": "code",
     "collapsed": false,
     "input": [
      "sig = random.random(2048)*2 -1"
     ],
     "language": "python",
     "metadata": {},
     "outputs": []
    },
    {
     "cell_type": "code",
     "collapsed": false,
     "input": [
      "Pxx, freqs, times, im = specgram(sig);\n",
      "colorbar()"
     ],
     "language": "python",
     "metadata": {},
     "outputs": []
    },
    {
     "cell_type": "code",
     "collapsed": false,
     "input": [
      "plot(Pxx[:,10])"
     ],
     "language": "python",
     "metadata": {},
     "outputs": []
    },
    {
     "cell_type": "code",
     "collapsed": false,
     "input": [
      "filtered = (sig + r_[0,sig[:-1]])\n",
      "Pxx2, freqs, times, im = specgram(filtered);\n",
      "colorbar()"
     ],
     "language": "python",
     "metadata": {},
     "outputs": []
    },
    {
     "cell_type": "code",
     "collapsed": false,
     "input": [
      "plot(Pxx2[:,10])"
     ],
     "language": "python",
     "metadata": {},
     "outputs": []
    },
    {
     "cell_type": "code",
     "collapsed": false,
     "input": [
      "plot(Pxx[:,10])\n",
      "plot(Pxx2[:,10])"
     ],
     "language": "python",
     "metadata": {},
     "outputs": []
    },
    {
     "cell_type": "code",
     "collapsed": false,
     "input": [
      "plot(Pxx[:,10])\n",
      "plot(Pxx2[:,10]/4.0)"
     ],
     "language": "python",
     "metadata": {},
     "outputs": []
    },
    {
     "cell_type": "code",
     "collapsed": false,
     "input": [
      "from scipy.signal import lfilter\n",
      "filtered4 = lfilter([1],[1, 1], sig)\n",
      "specgram(filtered4);"
     ],
     "language": "python",
     "metadata": {},
     "outputs": []
    },
    {
     "cell_type": "markdown",
     "metadata": {},
     "source": [
      "##Biquad filters\n",
      "\n",
      "$$H(z) = \\frac{b_0z^{0} + b_1z^{-1} +  b_2z^{-2}}{ a_0z^{0} + a_1z^{-1} + a_2z^{-2}}$$\n",
      "\n",
      "Great \"cookbook\":\n",
      "[http://www.musicdsp.org/files/Audio-EQ-Cookbook.txt](http://www.musicdsp.org/files/Audio-EQ-Cookbook.txt)"
     ]
    },
    {
     "cell_type": "code",
     "collapsed": false,
     "input": [
      "# low shelf-filter\n",
      "\n",
      "Fs = 44100\n",
      "f0 = 10000.0\n",
      "dBgain = 30.0\n",
      "S = 1.0 # shelf slope\n",
      "# -----------------------\n",
      "A  = 10**(dBgain/40)\n",
      "\n",
      "w0 = 2*pi*f0/Fs\n",
      "alpha = sin(w0)/2 * sqrt( (A + 1/A)*(1/S - 1) + 2 ) \n",
      "       \n",
      "b0 =    A*( (A+1) - (A-1)*cos(w0) + 2*sqrt(A)*alpha )\n",
      "b1 =  2*A*( (A-1) - (A+1)*cos(w0)                   )\n",
      "b2 =    A*( (A+1) - (A-1)*cos(w0) - 2*sqrt(A)*alpha )\n",
      "a0 =        (A+1) + (A-1)*cos(w0) + 2*sqrt(A)*alpha\n",
      "a1 =   -2*( (A-1) + (A+1)*cos(w0)                   )\n",
      "a2 =        (A+1) + (A-1)*cos(w0) - 2*sqrt(A)*alpha"
     ],
     "language": "python",
     "metadata": {},
     "outputs": []
    },
    {
     "cell_type": "code",
     "collapsed": false,
     "input": [
      "from scipy.signal import freqz\n",
      "w, h = freqz([b0, b1, b2], [a0, a1, a2])\n",
      "semilogy(w,abs(h))"
     ],
     "language": "python",
     "metadata": {},
     "outputs": []
    },
    {
     "cell_type": "code",
     "collapsed": false,
     "input": [
      "from scipy.signal import iirdesign"
     ],
     "language": "python",
     "metadata": {},
     "outputs": []
    },
    {
     "cell_type": "code",
     "collapsed": false,
     "input": [
      "Wp = 0.5  # Cutoff frequency \n",
      "Ws = 0.6   # Stop frequency \n",
      "Rp = 0.1     # passband maximum loss (gpass)\n",
      "As = 60      # stoppand min attenuation (gstop)\n",
      "b,a = iirdesign(Wp, Ws, Rp, As, ftype='butter')\n",
      "frq, resp = freqz(b,a)\n",
      "plot(frq, abs(resp))\n",
      "twinx()\n",
      "plot(frq, angle(resp), 'r')\n",
      "\n",
      "title('Butterworth filter')\n",
      "grid()"
     ],
     "language": "python",
     "metadata": {},
     "outputs": []
    },
    {
     "cell_type": "markdown",
     "metadata": {},
     "source": [
      "More details and examples:\n",
      "* http://nbviewer.ipython.org/github/mantaraya36/201A-ipython/blob/master/Audio%20Filters.ipynb"
     ]
    },
    {
     "cell_type": "heading",
     "level": 1,
     "metadata": {},
     "source": [
      "Sonification/Simulation/Big Data"
     ]
    },
    {
     "cell_type": "code",
     "collapsed": false,
     "input": [
      "from sklearn import datasets\n",
      "\n",
      "iris = datasets.load_iris()\n",
      "index_0 = (iris.data[:,0] - iris.data[:,0].min())/ptp(iris.data[:,0])\n",
      "index_1 = (iris.data[:,1] - iris.data[:,1].min())/ptp(iris.data[:,1])\n",
      "space = zeros((512,512))\n",
      "\n",
      "space[50 + (index_0*450).astype(int),50 + (index_1*450).astype(int)] += 1\n",
      "\n",
      "imshow(space, cmap='gray', aspect='auto')\n",
      "gcf().set_figheight(12)\n",
      "gcf().set_figwidth(12)"
     ],
     "language": "python",
     "metadata": {},
     "outputs": []
    },
    {
     "cell_type": "code",
     "collapsed": false,
     "input": [
      "from scipy.ndimage.filters import gaussian_filter\n",
      "gspace = gaussian_filter(space, 7)\n",
      "imshow(gspace)\n",
      "\n",
      "gcf().set_figheight(9)\n",
      "gcf().set_figwidth(9)"
     ],
     "language": "python",
     "metadata": {},
     "outputs": []
    },
    {
     "cell_type": "code",
     "collapsed": false,
     "input": [
      "Ex,Ey = gradient(gspace)\n",
      "\n",
      "n = 30000\n",
      "dt = 1e-1\n",
      "\n",
      "r = zeros((n,2))\n",
      "v = zeros((n,2))\n",
      "a = zeros((n,2))\n",
      "\n",
      "r[0] = [256, 256]\n",
      "v[0] = [0, -2.0]\n",
      "\n",
      "damp = 0.9999\n",
      "\n",
      "q = 5500\n",
      "m = 0.5\n",
      "\n",
      "for i in range(n - 1):\n",
      "    E = array([Ex[int(r[i][0]), int(r[i][1])], Ey[int(r[i][0]), int(r[i][1])]])\n",
      "\n",
      "    a[i+1] = q*E/m \n",
      "    v[i+1] = damp * (v[i] + a[i+1]*dt)\n",
      "    r[i+1] = r[i] + v[i+1]*dt\n"
     ],
     "language": "python",
     "metadata": {},
     "outputs": []
    },
    {
     "cell_type": "code",
     "collapsed": false,
     "input": [
      "figure(figsize=(12,10))\n",
      "imshow(gspace.T)\n",
      "#quiver(Ex[::],Ey[::])\n",
      "plot(*r.T, lw=3, c= 'w')\n",
      "xlim((0, 512))\n",
      "ylim((0, 512))"
     ],
     "language": "python",
     "metadata": {},
     "outputs": []
    },
    {
     "cell_type": "code",
     "collapsed": false,
     "input": [
      "vel = hypot(*v.T)\n",
      "plot(hypot(*v.T))"
     ],
     "language": "python",
     "metadata": {},
     "outputs": []
    },
    {
     "cell_type": "code",
     "collapsed": false,
     "input": [
      "Ek = 0.5 * m * hypot(*v.T)**2\n",
      "plot(Ek)"
     ],
     "language": "python",
     "metadata": {},
     "outputs": []
    },
    {
     "cell_type": "code",
     "collapsed": false,
     "input": [
      "import icsound\n",
      "ics = icsound.icsound()\n",
      "ics.start_engine()"
     ],
     "language": "python",
     "metadata": {},
     "outputs": []
    },
    {
     "cell_type": "code",
     "collapsed": false,
     "input": [
      "%%csound\n",
      "givalue = 10"
     ],
     "language": "python",
     "metadata": {},
     "outputs": []
    },
    {
     "cell_type": "code",
     "collapsed": false,
     "input": [
      "%%csound\n",
      "print givalue"
     ],
     "language": "python",
     "metadata": {},
     "outputs": []
    },
    {
     "cell_type": "code",
     "collapsed": false,
     "input": [
      "ics.print_log()"
     ],
     "language": "python",
     "metadata": {},
     "outputs": []
    },
    {
     "cell_type": "code",
     "collapsed": false,
     "input": [
      "ics.fill_table(1, Ek)"
     ],
     "language": "python",
     "metadata": {},
     "outputs": []
    },
    {
     "cell_type": "code",
     "collapsed": false,
     "input": [
      "%%csound\n",
      "chn_k \"freq\", 1\n",
      "\n",
      "instr 1\n",
      "\n",
      "kfreq chnget \"freq\"\n",
      "asig poscil 1/45, kfreq, 1\n",
      "\n",
      "outs asig, asig\n",
      "\n",
      "endin"
     ],
     "language": "python",
     "metadata": {},
     "outputs": []
    },
    {
     "cell_type": "code",
     "collapsed": false,
     "input": [
      "ics.send_score(\"i 1 0 -1\")"
     ],
     "language": "python",
     "metadata": {},
     "outputs": []
    },
    {
     "cell_type": "code",
     "collapsed": false,
     "input": [
      "ics.set_channel(\"freq\", 1.0)"
     ],
     "language": "python",
     "metadata": {},
     "outputs": []
    },
    {
     "cell_type": "code",
     "collapsed": false,
     "input": [
      "ics.set_channel(\"freq\", 0.5)"
     ],
     "language": "python",
     "metadata": {},
     "outputs": []
    },
    {
     "cell_type": "code",
     "collapsed": false,
     "input": [
      "ics.start_record(\"one_particle.wav\")"
     ],
     "language": "python",
     "metadata": {},
     "outputs": []
    },
    {
     "cell_type": "code",
     "collapsed": false,
     "input": [
      "ics.stop_record()"
     ],
     "language": "python",
     "metadata": {},
     "outputs": []
    },
    {
     "cell_type": "code",
     "collapsed": false,
     "input": [
      "ics.send_score(\"i -1 0 -1\")"
     ],
     "language": "python",
     "metadata": {},
     "outputs": []
    },
    {
     "cell_type": "code",
     "collapsed": false,
     "input": [
      "!aplay one_particle.wav"
     ],
     "language": "python",
     "metadata": {},
     "outputs": []
    },
    {
     "cell_type": "heading",
     "level": 1,
     "metadata": {
      "slideshow": {
       "slide_type": "slide"
      }
     },
     "source": [
      "Music Information Retrieval"
     ]
    },
    {
     "cell_type": "markdown",
     "metadata": {},
     "source": [
      "Various excellent libraries are available for research related to MIR in Python:\n",
      "* http://essentia.upf.edu/\n",
      "* https://github.com/bmcfee/librosa\n",
      "* https://github.com/marsyas/marsyas\n",
      "\n",
      "Generic machine learning:\n",
      "* http://shogun-toolbox.org/page/documentation/information\n",
      "* http://scikit-learn.org/stable/"
     ]
    },
    {
     "cell_type": "markdown",
     "metadata": {},
     "source": [
      "http://nbviewer.ipython.org/github/mantaraya36/240E-ipython/tree/master/"
     ]
    },
    {
     "cell_type": "heading",
     "level": 1,
     "metadata": {},
     "source": [
      "Synthesis"
     ]
    },
    {
     "cell_type": "markdown",
     "metadata": {},
     "source": [
      "Python can be useful for prototyping synthesis techniques offline (to file), and there are synthesis libraries for Python like pyo:\n",
      "\n",
      "* https://code.google.com/p/pyo/"
     ]
    },
    {
     "cell_type": "code",
     "collapsed": false,
     "input": [
      "from pyo import *\n",
      "s = Server().boot()"
     ],
     "language": "python",
     "metadata": {},
     "outputs": []
    },
    {
     "cell_type": "code",
     "collapsed": false,
     "input": [
      "import time\n",
      "a = Sine(440, 0, 0.1).out()\n",
      "s.start()"
     ],
     "language": "python",
     "metadata": {},
     "outputs": []
    },
    {
     "cell_type": "code",
     "collapsed": false,
     "input": [
      "b = Sine(880, 0, 0.1).out()"
     ],
     "language": "python",
     "metadata": {},
     "outputs": []
    },
    {
     "cell_type": "code",
     "collapsed": false,
     "input": [
      "s.stop()"
     ],
     "language": "python",
     "metadata": {},
     "outputs": []
    },
    {
     "cell_type": "code",
     "collapsed": false,
     "input": [
      "s.shutdown()\n",
      "s.boot()\n",
      "b = Sine(880, 0, 0.1).out()\n",
      "s.start()"
     ],
     "language": "python",
     "metadata": {},
     "outputs": []
    },
    {
     "cell_type": "code",
     "collapsed": false,
     "input": [
      "s.stop()"
     ],
     "language": "python",
     "metadata": {},
     "outputs": []
    },
    {
     "cell_type": "markdown",
     "metadata": {},
     "source": [
      "For some reason, the stop() function needs to settle before the shutdown(), so put them in separate cells..."
     ]
    },
    {
     "cell_type": "code",
     "collapsed": false,
     "input": [
      "s.shutdown()\n",
      "s.boot()"
     ],
     "language": "python",
     "metadata": {},
     "outputs": []
    },
    {
     "cell_type": "code",
     "collapsed": false,
     "input": [
      "s.shutdown()\n",
      "s.boot()\n",
      "s.start()\n",
      "wav = SquareTable()\n",
      "env = CosTable([(0,0), (100,1), (500,.3), (8191,0)])\n",
      "met = Metro(.250, 12).play()\n",
      "amp = TrigEnv(met, table=env, mul=.1)\n",
      "pit = TrigXnoiseMidi(met, dist='loopseg', x1=20, scale=1, mrange=(48,84))\n",
      "out = Osc(table=wav, freq=pit, mul=amp).out()"
     ],
     "language": "python",
     "metadata": {},
     "outputs": []
    },
    {
     "cell_type": "code",
     "collapsed": false,
     "input": [
      "s.stop()"
     ],
     "language": "python",
     "metadata": {},
     "outputs": []
    },
    {
     "cell_type": "code",
     "collapsed": false,
     "input": [
      "s.start()\n",
      "wav = SquareTable()\n",
      "env = CosTable([(0,0), (100,1), (500,.3), (8191,0)])\n",
      "met = Metro(.250, 12).play()\n",
      "amp = TrigEnv(met, table=env, mul=.1)\n",
      "pit = TrigXnoiseMidi(met, dist='loopseg', x1=20, scale=1, mrange=(48,84))\n",
      "out = Osc(table=wav, freq=pit, mul=amp).out()\n",
      "s.gui(locals())"
     ],
     "language": "python",
     "metadata": {},
     "outputs": []
    },
    {
     "cell_type": "markdown",
     "metadata": {},
     "source": [
      "By Andr\u00e9s Cabrera mantaraya36@gmail.com\n",
      "\n",
      "For course MAT 240A at UCSB\n",
      "\n",
      "This ipython notebook is licensed under the CC-BY-NC-SA license: http://creativecommons.org/licenses/by-nc-sa/4.0/\n",
      "\n",
      "![http://i.creativecommons.org/l/by-nc-sa/3.0/88x31.png](http://i.creativecommons.org/l/by-nc-sa/3.0/88x31.png)"
     ]
    }
   ],
   "metadata": {}
  }
 ]
}